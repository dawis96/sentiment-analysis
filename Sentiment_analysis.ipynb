{
 "cells": [
  {
   "cell_type": "code",
   "execution_count": 24,
   "metadata": {
    "colab": {},
    "colab_type": "code",
    "id": "KWAEJ--G9yvW"
   },
   "outputs": [],
   "source": [
    "import random\n",
    "import re\n",
    "import datetime\n",
    "import pandas as pd\n",
    "import numpy as np\n",
    "import matplotlib.pyplot as plt\n",
    "%matplotlib inline\n",
    "\n",
    "from nltk.corpus import stopwords\n",
    "from nltk.stem import PorterStemmer, SnowballStemmer\n",
    "    \n",
    "from sklearn.feature_extraction.text import CountVectorizer, TfidfVectorizer\n",
    "from sklearn.pipeline import Pipeline \n",
    "from sklearn.linear_model import LogisticRegression\n",
    "from sklearn.neighbors import KNeighborsClassifier\n",
    "from sklearn.svm import SVC\n",
    "from sklearn.model_selection import GridSearchCV\n",
    "from sklearn.naive_bayes import GaussianNB\n",
    "from sklearn.metrics import accuracy_score\n",
    "from sklearn.model_selection import train_test_split\n",
    "from sklearn.preprocessing import FunctionTransformer\n",
    "from sklearn.metrics import accuracy_score, confusion_matrix\n",
    "from joblib import dump, load\n",
    "from sklearn.cluster import KMeans\n",
    "from sklearn.decomposition import PCA\n",
    "from sklearn.utils import shuffle"
   ]
  },
  {
   "cell_type": "markdown",
   "metadata": {
    "colab_type": "text",
    "id": "j4VTcM5m9yva"
   },
   "source": [
    "## Wczytanie danych"
   ]
  },
  {
   "cell_type": "code",
   "execution_count": 2,
   "metadata": {
    "colab": {
     "base_uri": "https://localhost:8080/",
     "height": 195
    },
    "colab_type": "code",
    "executionInfo": {
     "elapsed": 824,
     "status": "ok",
     "timestamp": 1579817563730,
     "user": {
      "displayName": "Damian Grzywna",
      "photoUrl": "",
      "userId": "11178805709046285119"
     },
     "user_tz": -60
    },
    "id": "4aypElws9yvc",
    "outputId": "0cab8f65-86b2-41a6-cf24-49a8dc326af5",
    "scrolled": true
   },
   "outputs": [
    {
     "data": {
      "text/html": [
       "<div>\n",
       "<style scoped>\n",
       "    .dataframe tbody tr th:only-of-type {\n",
       "        vertical-align: middle;\n",
       "    }\n",
       "\n",
       "    .dataframe tbody tr th {\n",
       "        vertical-align: top;\n",
       "    }\n",
       "\n",
       "    .dataframe thead th {\n",
       "        text-align: right;\n",
       "    }\n",
       "</style>\n",
       "<table border=\"1\" class=\"dataframe\">\n",
       "  <thead>\n",
       "    <tr style=\"text-align: right;\">\n",
       "      <th></th>\n",
       "      <th>SentimentText</th>\n",
       "      <th>Sentiment</th>\n",
       "    </tr>\n",
       "  </thead>\n",
       "  <tbody>\n",
       "    <tr>\n",
       "      <th>0</th>\n",
       "      <td>first think another Disney movie, might good, ...</td>\n",
       "      <td>1</td>\n",
       "    </tr>\n",
       "    <tr>\n",
       "      <th>1</th>\n",
       "      <td>Put aside Dr. House repeat missed, Desperate H...</td>\n",
       "      <td>0</td>\n",
       "    </tr>\n",
       "    <tr>\n",
       "      <th>2</th>\n",
       "      <td>big fan Stephen King's work, film made even gr...</td>\n",
       "      <td>1</td>\n",
       "    </tr>\n",
       "    <tr>\n",
       "      <th>3</th>\n",
       "      <td>watched horrid thing TV. Needless say one movi...</td>\n",
       "      <td>0</td>\n",
       "    </tr>\n",
       "    <tr>\n",
       "      <th>4</th>\n",
       "      <td>truly enjoyed film. acting terrific plot. Jeff...</td>\n",
       "      <td>1</td>\n",
       "    </tr>\n",
       "  </tbody>\n",
       "</table>\n",
       "</div>"
      ],
      "text/plain": [
       "                                       SentimentText  Sentiment\n",
       "0  first think another Disney movie, might good, ...          1\n",
       "1  Put aside Dr. House repeat missed, Desperate H...          0\n",
       "2  big fan Stephen King's work, film made even gr...          1\n",
       "3  watched horrid thing TV. Needless say one movi...          0\n",
       "4  truly enjoyed film. acting terrific plot. Jeff...          1"
      ]
     },
     "execution_count": 2,
     "metadata": {},
     "output_type": "execute_result"
    }
   ],
   "source": [
    "df = pd.read_csv('sentiment_movies.csv', encoding = \"ISO-8859-1\")\n",
    "df.head()"
   ]
  },
  {
   "cell_type": "markdown",
   "metadata": {
    "colab_type": "text",
    "id": "doBRx0AW9yvg"
   },
   "source": [
    "### Analiza zbioru danych"
   ]
  },
  {
   "cell_type": "code",
   "execution_count": 3,
   "metadata": {
    "colab": {
     "base_uri": "https://localhost:8080/",
     "height": 309
    },
    "colab_type": "code",
    "executionInfo": {
     "elapsed": 1185,
     "status": "ok",
     "timestamp": 1579817564850,
     "user": {
      "displayName": "Damian Grzywna",
      "photoUrl": "",
      "userId": "11178805709046285119"
     },
     "user_tz": -60
    },
    "id": "LG0hh0HF9yvh",
    "outputId": "fef5a602-a9f8-441c-ca7f-8b81b3505bf4"
   },
   "outputs": [
    {
     "data": {
      "text/plain": [
       "Text(0.5, 0, 'klasa')"
      ]
     },
     "execution_count": 3,
     "metadata": {},
     "output_type": "execute_result"
    },
    {
     "data": {
      "image/png": "[encoded data removed]",
      "text/plain": [
       "<Figure size 432x288 with 1 Axes>"
      ]
     },
     "metadata": {
      "needs_background": "light"
     },
     "output_type": "display_data"
    }
   ],
   "source": [
    "ax = df['Sentiment'].value_counts().plot(kind='bar')\n",
    "ax.set_title(\"liczba wystąpień każdej z klas\")\n",
    "ax.set_ylabel(\"ilość\")\n",
    "ax.set_xlabel(\"klasa\")"
   ]
  },
  {
   "cell_type": "code",
   "execution_count": 4,
   "metadata": {
    "colab": {
     "base_uri": "https://localhost:8080/",
     "height": 54
    },
    "colab_type": "code",
    "executionInfo": {
     "elapsed": 1271,
     "status": "ok",
     "timestamp": 1579817565205,
     "user": {
      "displayName": "Damian Grzywna",
      "photoUrl": "",
      "userId": "11178805709046285119"
     },
     "user_tz": -60
    },
    "id": "cfzrisMu9yvk",
    "outputId": "5cc9aa00-3917-498f-ee25-9cc66514f0a5"
   },
   "outputs": [
    {
     "data": {
      "text/plain": [
       "'Alright, admit never seen \"Rhoda\" one two episodes \"The Mary Tyler Moore Show.\" Even though don\\'t know anything duo comedic talent, still liked movie lot.<br /><br />Mary goes back work. Rose tries luck comedian. Rhoda struggles photography career. Meredith...what exactly again? three stories follow two hours amusing entertaining way. two long time friends reunite, makes film better. <br /><br />I surprised good writing was. little jokes thrown Mary Rhoda funny. script well put together.<br /><br />I seen Moore Harper movies past years thought good. idea worked well team. actresses share fulfill title movie, never seem let down. (During run movie.) Joie Lenz Marisa Ryan play roles okay nothing great. rest cast like Jonah, Cecile and....everybody else also works well together.<br /><br />Being reunion, would expect fan either show enjoy this. non-fan still enjoyed little get-together. Good story lines character two main characters makes film good. (The newer version MTM theme song doesn\\'t hurt either.)'"
      ]
     },
     "execution_count": 4,
     "metadata": {},
     "output_type": "execute_result"
    }
   ],
   "source": [
    "# Wypisanie przykladowej recenzji\n",
    "df.loc[1234, 'SentimentText'] "
   ]
  },
  {
   "cell_type": "markdown",
   "metadata": {
    "colab_type": "text",
    "id": "Bz3vV5RG9yvn"
   },
   "source": [
    "### Procesowanie tekstu"
   ]
  },
  {
   "cell_type": "markdown",
   "metadata": {
    "colab_type": "text",
    "id": "qflKEFRC9yvo"
   },
   "source": [
    "#### Czyszczenie \n",
    "Jak widac powyzej dane posiadaja znaki specjalne html, ktore nalezy usunac. W celu wyciagniecia z danych tylko slow trzeba usunac rowniez znaki takie jak \".\" \"!\" \"?\" itp."
   ]
  },
  {
   "cell_type": "code",
   "execution_count": 3,
   "metadata": {
    "colab": {},
    "colab_type": "code",
    "id": "Jwr9FEI19yvp"
   },
   "outputs": [],
   "source": [
    "# Zastapienie znakow spacjami:\n",
    "df['SentimentText_cleaned'] = df['SentimentText'].apply(lambda x: re.sub(\"(<br\\s*/><br\\s*/>)|(\\-)|(\\/)\", \" \", x))\n",
    "df['SentimentText_cleaned'] = df['SentimentText_cleaned'].apply(lambda x: x.replace(\"_\", \" \"))\n",
    "# Usuniecie znakow specjalnych:\n",
    "df['SentimentText_cleaned'] = df['SentimentText_cleaned'].apply(lambda x: re.sub(\"[\\W]+\", ' ', x))\n",
    "# Zamiana wszystkich liter na male:\n",
    "df['SentimentText_cleaned'] = df['SentimentText_cleaned'].apply(lambda x: x.lower())"
   ]
  },
  {
   "cell_type": "code",
   "execution_count": 6,
   "metadata": {
    "colab": {},
    "colab_type": "code",
    "id": "tqUPh-uo9yvt"
   },
   "outputs": [],
   "source": [
    "#usuniecie cyfr\n",
    "#df['SentimentText_cleaned'] = df['SentimentText_cleaned'].apply(lambda x: re.sub(\"\\d+\", ' ', x))"
   ]
  },
  {
   "cell_type": "code",
   "execution_count": 7,
   "metadata": {
    "colab": {
     "base_uri": "https://localhost:8080/",
     "height": 54
    },
    "colab_type": "code",
    "executionInfo": {
     "elapsed": 3583,
     "status": "ok",
     "timestamp": 1579817568367,
     "user": {
      "displayName": "Damian Grzywna",
      "photoUrl": "",
      "userId": "11178805709046285119"
     },
     "user_tz": -60
    },
    "id": "8u3C_ksG9yvw",
    "outputId": "f7f08e92-19b6-4abf-f33a-84d5c8c403af"
   },
   "outputs": [
    {
     "data": {
      "text/plain": [
       "'alright admit never seen rhoda one two episodes the mary tyler moore show even though don t know anything duo comedic talent still liked movie lot mary goes back work rose tries luck comedian rhoda struggles photography career meredith what exactly again three stories follow two hours amusing entertaining way two long time friends reunite makes film better i surprised good writing was little jokes thrown mary rhoda funny script well put together i seen moore harper movies past years thought good idea worked well team actresses share fulfill title movie never seem let down during run movie joie lenz marisa ryan play roles okay nothing great rest cast like jonah cecile and everybody else also works well together being reunion would expect fan either show enjoy this non fan still enjoyed little get together good story lines character two main characters makes film good the newer version mtm theme song doesn t hurt either '"
      ]
     },
     "execution_count": 7,
     "metadata": {},
     "output_type": "execute_result"
    }
   ],
   "source": [
    "# przykladowa recencja po wstepnym oczyszczeniu\n",
    "df.loc[1234, 'SentimentText_cleaned'] "
   ]
  },
  {
   "cell_type": "markdown",
   "metadata": {
    "colab_type": "text",
    "id": "ij0O0cmC9yvy"
   },
   "source": [
    "#### Usuniecie 'stop-words'\n",
    "Usuniecie bardzo popularnych slow takich jak \"i\", \"jesli\", \"ona\", które nic nie wnosza."
   ]
  },
  {
   "cell_type": "code",
   "execution_count": 8,
   "metadata": {
    "colab": {
     "base_uri": "https://localhost:8080/",
     "height": 50
    },
    "colab_type": "code",
    "executionInfo": {
     "elapsed": 3236,
     "status": "ok",
     "timestamp": 1579817568368,
     "user": {
      "displayName": "Damian Grzywna",
      "photoUrl": "",
      "userId": "11178805709046285119"
     },
     "user_tz": -60
    },
    "id": "jn6q-LUv9yvz",
    "outputId": "843fad57-8308-4db3-f0f0-28ace4dac4b7"
   },
   "outputs": [],
   "source": [
    "english_stop_words = stopwords.words('english')"
   ]
  },
  {
   "cell_type": "code",
   "execution_count": 9,
   "metadata": {
    "colab": {
     "base_uri": "https://localhost:8080/",
     "height": 34
    },
    "colab_type": "code",
    "executionInfo": {
     "elapsed": 3051,
     "status": "ok",
     "timestamp": 1579817568369,
     "user": {
      "displayName": "Damian Grzywna",
      "photoUrl": "",
      "userId": "11178805709046285119"
     },
     "user_tz": -60
    },
    "id": "2jbx3hXb9yv2",
    "outputId": "2117f96e-f2de-4916-c421-4fc8282633c2"
   },
   "outputs": [
    {
     "data": {
      "text/plain": [
       "['i', 'that', 'through', 'own', 'ma']"
      ]
     },
     "execution_count": 9,
     "metadata": {},
     "output_type": "execute_result"
    }
   ],
   "source": [
    "# przyklady angielskig 'stop-words':\n",
    "english_stop_words[::40]"
   ]
  },
  {
   "cell_type": "code",
   "execution_count": 10,
   "metadata": {
    "colab": {
     "base_uri": "https://localhost:8080/",
     "height": 54
    },
    "colab_type": "code",
    "executionInfo": {
     "elapsed": 9666,
     "status": "ok",
     "timestamp": 1579817575350,
     "user": {
      "displayName": "Damian Grzywna",
      "photoUrl": "",
      "userId": "11178805709046285119"
     },
     "user_tz": -60
    },
    "id": "ZAni9DNk9yv-",
    "outputId": "dfd32eb2-c713-45ad-b3dc-8bfa1b4f0e69",
    "scrolled": true
   },
   "outputs": [
    {
     "data": {
      "text/plain": [
       "'alright admit never seen rhoda one two episodes mary tyler moore show even though know anything duo comedic talent still liked movie lot mary goes back work rose tries luck comedian rhoda struggles photography career meredith exactly three stories follow two hours amusing entertaining way two long time friends reunite makes film better surprised good writing little jokes thrown mary rhoda funny script well put together seen moore harper movies past years thought good idea worked well team actresses share fulfill title movie never seem let run movie joie lenz marisa ryan play roles okay nothing great rest cast like jonah cecile everybody else also works well together reunion would expect fan either show enjoy non fan still enjoyed little get together good story lines character two main characters makes film good newer version mtm theme song hurt either'"
      ]
     },
     "execution_count": 10,
     "metadata": {},
     "output_type": "execute_result"
    }
   ],
   "source": [
    "# recenzja po usunieciu 'stop-words':\n",
    "' '.join([word for word in df.loc[1234, 'SentimentText_cleaned'].split() if word not in english_stop_words])"
   ]
  },
  {
   "cell_type": "markdown",
   "metadata": {
    "colab_type": "text",
    "id": "wrLiMYJ59ywB"
   },
   "source": [
    "#### normalizacja (steemming) slow \n",
    "Steeming to proces usuniecia ze slowa koncowki fleksyjnej pozostawiajac tylko temat wyrazu.\n",
    "W celu normalizacji uzyje algorytmu Portera."
   ]
  },
  {
   "cell_type": "code",
   "execution_count": 11,
   "metadata": {
    "colab": {},
    "colab_type": "code",
    "id": "MwEc1aHu_lS2"
   },
   "outputs": [],
   "source": [
    "porter = PorterStemmer()\n",
    "def tokenizer_porter(text):\n",
    "  return [porter.stem(word) for word in text.split()]"
   ]
  },
  {
   "cell_type": "code",
   "execution_count": 12,
   "metadata": {},
   "outputs": [
    {
     "data": {
      "text/plain": [
       "'alright admit never seen rhoda one two episod the mari tyler moor show even though don t know anyth duo comed talent still like movi lot mari goe back work rose tri luck comedian rhoda struggl photographi career meredith what exactli again three stori follow two hour amus entertain way two long time friend reunit make film better i surpris good write wa littl joke thrown mari rhoda funni script well put togeth i seen moor harper movi past year thought good idea work well team actress share fulfil titl movi never seem let down dure run movi joie lenz marisa ryan play role okay noth great rest cast like jonah cecil and everybodi els also work well togeth be reunion would expect fan either show enjoy thi non fan still enjoy littl get togeth good stori line charact two main charact make film good the newer version mtm theme song doesn t hurt either'"
      ]
     },
     "execution_count": 12,
     "metadata": {},
     "output_type": "execute_result"
    }
   ],
   "source": [
    "' '.join(tokenizer_porter(df.loc[1234, 'SentimentText_cleaned'] ))"
   ]
  },
  {
   "cell_type": "markdown",
   "metadata": {
    "colab_type": "text",
    "id": "-9Z0qZp09ywO"
   },
   "source": [
    "## Zamiana recenzji na wektory oraz testowanie przeprocesowanych danych"
   ]
  },
  {
   "cell_type": "code",
   "execution_count": 4,
   "metadata": {
    "colab": {},
    "colab_type": "code",
    "id": "gD5fD55W9ywP"
   },
   "outputs": [],
   "source": [
    "# X - wyczyszczone dane, y - kolumna dezycyjna\n",
    "X_cleaned = df.SentimentText_cleaned\n",
    "y = df.Sentiment"
   ]
  },
  {
   "cell_type": "code",
   "execution_count": 5,
   "metadata": {
    "colab": {},
    "colab_type": "code",
    "id": "SJDqk2bN9ywS",
    "scrolled": false
   },
   "outputs": [],
   "source": [
    "# Podzial danych na czesc treningowa i testowa\n",
    "X_cleaned_train, X_cleaned_test, y_cleaned_train, y_cleaned_test = train_test_split(X_cleaned, y, test_size=0.2, random_state=42)"
   ]
  },
  {
   "cell_type": "markdown",
   "metadata": {
    "colab_type": "text",
    "id": "tceRgNX-9ywP"
   },
   "source": [
    "#### 1. Z uzyciem metody tf-idf (wazeniem czestosci termow - odwrotna czestoscia w tekscie)"
   ]
  },
  {
   "cell_type": "markdown",
   "metadata": {
    "colab_type": "text",
    "id": "IdcCWW9A9ywU"
   },
   "source": [
    "##### Wyszukanie najlepszych parametrow oraz sprawdzenie dokladnosci tf-idf i regresji logistycznej z uzyciem metody przeszukiwania siatki."
   ]
  },
  {
   "cell_type": "code",
   "execution_count": 14,
   "metadata": {
    "colab": {},
    "colab_type": "code",
    "id": "rxfFu6WJ9ywV"
   },
   "outputs": [],
   "source": [
    "tfidf = TfidfVectorizer()\n",
    "lr = LogisticRegression()\n",
    "\n",
    "param_grid = [\n",
    "    {\n",
    "        'vect__ngram_range': [(1,1)],\n",
    "        'vect__stop_words': [english_stop_words, None],\n",
    "        'vect__tokenizer': [None, tokenizer_porter],\n",
    "        'clf__penalty': ['l1', 'l2'],\n",
    "        'clf__C': [1.0, 10.0, 100.0]\n",
    "    },\n",
    "    {\n",
    "        'vect__ngram_range': [(1,1)],\n",
    "        'vect__stop_words': [english_stop_words, None],\n",
    "        'vect__tokenizer': [None, tokenizer_porter],\n",
    "        'vect__use_idf': [None],\n",
    "        'vect__norm': [None],\n",
    "        'clf__penalty': ['l1', 'l2'],\n",
    "        'clf__C': [1.0, 10.0, 100.0]\n",
    "    },\n",
    "]\n",
    "\n",
    "tfidf_lr = Pipeline([('vect', tfidf),\n",
    "                     ('clf', lr)])"
   ]
  },
  {
   "cell_type": "code",
   "execution_count": 17,
   "metadata": {
    "colab": {
     "base_uri": "https://localhost:8080/",
     "height": 843
    },
    "colab_type": "code",
    "executionInfo": {
     "elapsed": 5658716,
     "status": "ok",
     "timestamp": 1579815466670,
     "user": {
      "displayName": "Damian Grzywna",
      "photoUrl": "",
      "userId": "11178805709046285119"
     },
     "user_tz": -60
    },
    "id": "3Pu51jUy9ywZ",
    "outputId": "ea126e0a-5c0c-4453-defa-d4dc2cc1bf62",
    "scrolled": true
   },
   "outputs": [
    {
     "name": "stdout",
     "output_type": "stream",
     "text": [
      "Fitting 5 folds for each of 48 candidates, totalling 240 fits\n"
     ]
    },
    {
     "name": "stderr",
     "output_type": "stream",
     "text": [
      "[Parallel(n_jobs=8)]: Using backend LokyBackend with 8 concurrent workers.\n",
      "[Parallel(n_jobs=8)]: Done   2 tasks      | elapsed:   17.8s\n",
      "[Parallel(n_jobs=8)]: Done   9 tasks      | elapsed:   38.8s\n",
      "[Parallel(n_jobs=8)]: Done  16 tasks      | elapsed:  3.6min\n",
      "[Parallel(n_jobs=8)]: Done  25 tasks      | elapsed:  4.3min\n",
      "[Parallel(n_jobs=8)]: Done  34 tasks      | elapsed:  7.3min\n",
      "[Parallel(n_jobs=8)]: Done  45 tasks      | elapsed: 10.6min\n",
      "[Parallel(n_jobs=8)]: Done  56 tasks      | elapsed: 11.7min\n",
      "[Parallel(n_jobs=8)]: Done  69 tasks      | elapsed: 15.4min\n",
      "[Parallel(n_jobs=8)]: Done  82 tasks      | elapsed: 19.1min\n",
      "[Parallel(n_jobs=8)]: Done  97 tasks      | elapsed: 22.8min\n",
      "[Parallel(n_jobs=8)]: Done 112 tasks      | elapsed: 26.7min\n",
      "[Parallel(n_jobs=8)]: Done 129 tasks      | elapsed: 30.1min\n",
      "[Parallel(n_jobs=8)]: Done 146 tasks      | elapsed: 34.0min\n",
      "[Parallel(n_jobs=8)]: Done 165 tasks      | elapsed: 38.3min\n",
      "[Parallel(n_jobs=8)]: Done 184 tasks      | elapsed: 42.5min\n",
      "[Parallel(n_jobs=8)]: Done 205 tasks      | elapsed: 49.1min\n",
      "[Parallel(n_jobs=8)]: Done 240 out of 240 | elapsed: 58.7min finished\n",
      "C:\\anaconda37\\lib\\site-packages\\sklearn\\linear_model\\logistic.py:433: FutureWarning: Default solver will be changed to 'lbfgs' in 0.22. Specify a solver to silence this warning.\n",
      "  FutureWarning)\n"
     ]
    },
    {
     "data": {
      "text/plain": [
       "GridSearchCV(cv=5, error_score='raise-deprecating',\n",
       "       estimator=Pipeline(memory=None,\n",
       "     steps=[('vect', TfidfVectorizer(analyzer='word', binary=False, decode_error='strict',\n",
       "        dtype=<class 'numpy.float64'>, encoding='utf-8', input='content',\n",
       "        lowercase=True, max_df=1.0, max_features=None, min_df=1,\n",
       "        ngram_range=(1, 1), norm='l2', preprocessor=None, smooth_idf=True,\n",
       "...penalty='l2', random_state=None, solver='warn',\n",
       "          tol=0.0001, verbose=0, warm_start=False))]),\n",
       "       fit_params=None, iid='warn', n_jobs=8,\n",
       "       param_grid=[{'vect__ngram_range': [(1, 1)], 'vect__stop_words': [['i', 'me', 'my', 'myself', 'we', 'our', 'ours', 'ourselves', 'you', \"you're\", \"you've\", \"you'll\", \"you'd\", 'your', 'yours', 'yourself', 'yourselves', 'he', 'him', 'his', 'himself', 'she', \"she's\", 'her', 'hers', 'herself', 'it', \"it's...use_idf': [None], 'vect__norm': [None], 'clf__penalty': ['l1', 'l2'], 'clf__C': [1.0, 10.0, 100.0]}],\n",
       "       pre_dispatch='2*n_jobs', refit=True, return_train_score='warn',\n",
       "       scoring='accuracy', verbose=10)"
      ]
     },
     "execution_count": 17,
     "metadata": {},
     "output_type": "execute_result"
    }
   ],
   "source": [
    "gs_tfidf_lr = GridSearchCV(tfidf_lr, param_grid, scoring='accuracy', cv=5, verbose=10, n_jobs=8)\n",
    "gs_tfidf_lr.fit(X_cleaned_train, y_cleaned_train)"
   ]
  },
  {
   "cell_type": "code",
   "execution_count": 18,
   "metadata": {
    "colab": {
     "base_uri": "https://localhost:8080/",
     "height": 212
    },
    "colab_type": "code",
    "executionInfo": {
     "elapsed": 2132,
     "status": "error",
     "timestamp": 1579815873959,
     "user": {
      "displayName": "Damian Grzywna",
      "photoUrl": "",
      "userId": "11178805709046285119"
     },
     "user_tz": -60
    },
    "id": "e-mf10hl9ywc",
    "outputId": "77a22b2a-bff5-4e20-db70-f121647533c0",
    "scrolled": false
   },
   "outputs": [
    {
     "name": "stdout",
     "output_type": "stream",
     "text": [
      "Zestaw najlepszych parametrów: {'clf__C': 10.0, 'clf__penalty': 'l2', 'vect__ngram_range': (1, 1), 'vect__stop_words': None, 'vect__tokenizer': None}\n",
      "Dokladnosc sprawdzianu krzyzowego: 0.8924\n",
      "Dokladnosc algorytmu na danych testowych: 0.887\n"
     ]
    }
   ],
   "source": [
    "# ewaluacja modelu\n",
    "print(f\"Zestaw najlepszych parametrów: {gs_tfidf_lr.best_params_}\")\n",
    "print(f\"Dokladnosc sprawdzianu krzyzowego: {gs_tfidf_lr.best_score_}\")\n",
    "clf_tfidf_lr = gs_tfidf_lr.best_estimator_\n",
    "print(f\"Dokladnosc algorytmu na danych testowych: {clf_tfidf_lr.score(X_cleaned_test, y_cleaned_test)}\")"
   ]
  },
  {
   "cell_type": "code",
   "execution_count": 32,
   "metadata": {},
   "outputs": [
    {
     "data": {
      "text/plain": [
       "['tfidf_lr.joblib']"
      ]
     },
     "execution_count": 32,
     "metadata": {},
     "output_type": "execute_result"
    }
   ],
   "source": [
    "# zapisanie modelu \n",
    "dump(clf_tfidf_lr, 'tfidf_lr.joblib')"
   ]
  },
  {
   "cell_type": "markdown",
   "metadata": {
    "colab_type": "text",
    "id": "4VIM7N1o9ywf"
   },
   "source": [
    "##### Wyszukanie najlepszych parametrow oraz sprawdzenie dokladnosci tf-idf i algorytmu svm z uzyciem metody przeszukiwania siatki."
   ]
  },
  {
   "cell_type": "code",
   "execution_count": 105,
   "metadata": {
    "colab": {},
    "colab_type": "code",
    "id": "Xi0E9I6L9ywi"
   },
   "outputs": [],
   "source": [
    "tfidf = TfidfVectorizer()\n",
    "svm = SVC()\n",
    "\n",
    "param_grid = [\n",
    "    {\n",
    "        'vect__ngram_range': [(1,1)],\n",
    "        'vect__stop_words': [english_stop_words, None],\n",
    "        'clf__kernel': ['linear', 'rbf'],\n",
    "        'clf__C': [ 0.01, 0.1, 1],\n",
    "        'clf__gamma': [ 0.01, 0.1, 1]\n",
    "    },\n",
    "]\n",
    "\n",
    "tfidf_svm = Pipeline([('vect', tfidf),\n",
    "                     #('transform', FunctionTransformer(lambda x: x.toarray(), accept_sparse=True, validate=True)),\n",
    "                     ('clf', svm)])"
   ]
  },
  {
   "cell_type": "code",
   "execution_count": 76,
   "metadata": {
    "colab": {
     "base_uri": "https://localhost:8080/",
     "height": 50
    },
    "colab_type": "code",
    "id": "JdXj34lD9ywl",
    "outputId": "0be0a695-ee61-4212-daeb-9bddb3917f83",
    "scrolled": true
   },
   "outputs": [
    {
     "name": "stdout",
     "output_type": "stream",
     "text": [
      "Fitting 5 folds for each of 18 candidates, totalling 90 fits\n"
     ]
    },
    {
     "name": "stderr",
     "output_type": "stream",
     "text": [
      "[Parallel(n_jobs=6)]: Using backend LokyBackend with 6 concurrent workers.\n",
      "[Parallel(n_jobs=6)]: Done   1 tasks      | elapsed:  5.1min\n",
      "[Parallel(n_jobs=6)]: Done   6 tasks      | elapsed:  5.3min\n",
      "[Parallel(n_jobs=6)]: Done  13 tasks      | elapsed: 15.7min\n",
      "[Parallel(n_jobs=6)]: Done  20 tasks      | elapsed: 21.2min\n",
      "[Parallel(n_jobs=6)]: Done  29 tasks      | elapsed: 26.9min\n",
      "[Parallel(n_jobs=6)]: Done  38 tasks      | elapsed: 35.9min\n",
      "[Parallel(n_jobs=6)]: Done  49 tasks      | elapsed: 44.4min\n",
      "[Parallel(n_jobs=6)]: Done  60 tasks      | elapsed: 51.0min\n",
      "[Parallel(n_jobs=6)]: Done  73 tasks      | elapsed: 63.1min\n",
      "[Parallel(n_jobs=6)]: Done  90 out of  90 | elapsed: 77.5min finished\n"
     ]
    },
    {
     "data": {
      "text/plain": [
       "GridSearchCV(cv=5, error_score='raise-deprecating',\n",
       "             estimator=Pipeline(memory=None,\n",
       "                                steps=[('vect',\n",
       "                                        TfidfVectorizer(analyzer='word',\n",
       "                                                        binary=False,\n",
       "                                                        decode_error='strict',\n",
       "                                                        dtype=<class 'numpy.float64'>,\n",
       "                                                        encoding='utf-8',\n",
       "                                                        input='content',\n",
       "                                                        lowercase=True,\n",
       "                                                        max_df=1.0,\n",
       "                                                        max_features=None,\n",
       "                                                        min_df=1,\n",
       "                                                        ngram_range=(1, 1),\n",
       "                                                        norm='l2',\n",
       "                                                        preprocessor=None,\n",
       "                                                        smooth_idf=True,\n",
       "                                                        stop_words...\n",
       "                                            kernel='rbf', max_iter=-1,\n",
       "                                            probability=False,\n",
       "                                            random_state=None, shrinking=True,\n",
       "                                            tol=0.001, verbose=False))],\n",
       "                                verbose=False),\n",
       "             iid='warn', n_jobs=6,\n",
       "             param_grid=[{'clf__C': [0.01, 0.1, 1],\n",
       "                          'clf__gamma': [0.01, 0.1, 1],\n",
       "                          'clf__kernel': ['linear', 'rbf'],\n",
       "                          'vect__ngram_range': [(1, 1)]}],\n",
       "             pre_dispatch='2*n_jobs', refit=True, return_train_score=False,\n",
       "             scoring='accuracy', verbose=10)"
      ]
     },
     "execution_count": 76,
     "metadata": {},
     "output_type": "execute_result"
    }
   ],
   "source": [
    "gs_tfidf_svm = GridSearchCV(tfidf_svm, param_grid, scoring='accuracy', cv=5, verbose=10, n_jobs=6)\n",
    "gs_tfidf_svm.fit(X_cleaned_train, y_cleaned_train)"
   ]
  },
  {
   "cell_type": "code",
   "execution_count": 102,
   "metadata": {
    "scrolled": true
   },
   "outputs": [
    {
     "name": "stdout",
     "output_type": "stream",
     "text": [
      "Zestaw najlepszych parametrów: {'clf__C': 1, 'clf__gamma': 1, 'clf__kernel': 'rbf', 'vect__ngram_range': (1, 1)}\n",
      "Dokladnosc sprawdzianu krzyzowego: 0.8935\n",
      "Dokladnosc sprawdzianu krzyzowego: 0.8872\n"
     ]
    }
   ],
   "source": [
    "print(f\"Zestaw najlepszych parametrów: {gs_tfidf_svm.best_params_}\")\n",
    "print(f\"Dokladnosc sprawdzianu krzyzowego: {gs_tfidf_svm.best_score_}\")\n",
    "clf_tfidf_svm = gs_tfidf_svm.best_estimator_\n",
    "print(f\"Dokladnosc sprawdzianu krzyzowego: {clf_tfidf_svm.score(X_cleaned_test, y_cleaned_test)}\")\n",
    "#Blad - powinno byc dokladnosc na danych testowych"
   ]
  },
  {
   "cell_type": "code",
   "execution_count": 103,
   "metadata": {},
   "outputs": [
    {
     "data": {
      "text/plain": [
       "['tfidf_svm.joblib']"
      ]
     },
     "execution_count": 103,
     "metadata": {},
     "output_type": "execute_result"
    }
   ],
   "source": [
    "# zapisanie modelu \n",
    "dump(clf_tfidf_svm, 'tfidf_svm.joblib')"
   ]
  },
  {
   "cell_type": "markdown",
   "metadata": {},
   "source": [
    "##### Wyszukanie najlepszych parametrow oraz sprawdzenie dokladnosci tf-idf i algorytmu k najblizszych sasiadow z uzyciem metody przeszukiwania siatki."
   ]
  },
  {
   "cell_type": "code",
   "execution_count": 16,
   "metadata": {},
   "outputs": [],
   "source": [
    "tfidf = TfidfVectorizer()\n",
    "knn = KNeighborsClassifier()\n",
    "\n",
    "param_grid = [\n",
    "    {\n",
    "        'vect__ngram_range': [(1,1)],\n",
    "        'vect__stop_words': [english_stop_words, None],\n",
    "        'vect__tokenizer': [None, tokenizer_porter],\n",
    "        'clf__n_neighbors': [3, 5, 7]\n",
    "    },\n",
    "]\n",
    "\n",
    "tfidf_knn = Pipeline([('vect', tfidf),\n",
    "                      ('transform', FunctionTransformer(lambda x: x.todense(), accept_sparse=True, validate=True)),\n",
    "                      ('clf', knn)])"
   ]
  },
  {
   "cell_type": "code",
   "execution_count": 19,
   "metadata": {},
   "outputs": [
    {
     "name": "stdout",
     "output_type": "stream",
     "text": [
      "Fitting 5 folds for each of 12 candidates, totalling 60 fits\n"
     ]
    },
    {
     "name": "stderr",
     "output_type": "stream",
     "text": [
      "[Parallel(n_jobs=10)]: Using backend LokyBackend with 10 concurrent workers.\n",
      "[Parallel(n_jobs=10)]: Done   5 tasks      | elapsed:  5.3min\n",
      "[Parallel(n_jobs=10)]: Done  12 tasks      | elapsed: 12.1min\n",
      "[Parallel(n_jobs=10)]: Done  21 tasks      | elapsed: 17.2min\n",
      "[Parallel(n_jobs=10)]: Done  30 tasks      | elapsed: 18.8min\n",
      "[Parallel(n_jobs=10)]: Done  41 tasks      | elapsed: 28.7min\n",
      "[Parallel(n_jobs=10)]: Done  48 out of  60 | elapsed: 30.3min remaining:  7.6min\n",
      "[Parallel(n_jobs=10)]: Done  55 out of  60 | elapsed: 35.3min remaining:  3.2min\n",
      "[Parallel(n_jobs=10)]: Done  60 out of  60 | elapsed: 35.5min finished\n",
      "C:\\anaconda37\\lib\\site-packages\\sklearn\\feature_extraction\\text.py:300: UserWarning: Your stop_words may be inconsistent with your preprocessing. Tokenizing the stop words generated tokens ['abov', 'ani', 'becaus', 'befor', 'doe', 'dure', 'ha', 'hi', \"it'\", 'onc', 'onli', 'ourselv', \"she'\", \"should'v\", 'themselv', 'thi', 'veri', 'wa', 'whi', \"you'r\", \"you'v\", 'yourselv'] not in stop_words.\n",
      "  'stop_words.' % sorted(inconsistent))\n"
     ]
    },
    {
     "data": {
      "text/plain": [
       "GridSearchCV(cv=5, error_score='raise-deprecating',\n",
       "             estimator=Pipeline(memory=None,\n",
       "                                steps=[('vect',\n",
       "                                        TfidfVectorizer(analyzer='word',\n",
       "                                                        binary=False,\n",
       "                                                        decode_error='strict',\n",
       "                                                        dtype=<class 'numpy.float64'>,\n",
       "                                                        encoding='utf-8',\n",
       "                                                        input='content',\n",
       "                                                        lowercase=True,\n",
       "                                                        max_df=1.0,\n",
       "                                                        max_features=None,\n",
       "                                                        min_df=1,\n",
       "                                                        ngram_range=(1, 1),\n",
       "                                                        norm='l2',\n",
       "                                                        preprocessor=None,\n",
       "                                                        smooth_idf=True,\n",
       "                                                        stop_words...\n",
       "                                                'our', 'ours', 'ourselves',\n",
       "                                                'you', \"you're\", \"you've\",\n",
       "                                                \"you'll\", \"you'd\", 'your',\n",
       "                                                'yours', 'yourself',\n",
       "                                                'yourselves', 'he', 'him',\n",
       "                                                'his', 'himself', 'she',\n",
       "                                                \"she's\", 'her', 'hers',\n",
       "                                                'herself', 'it', \"it's\", 'its',\n",
       "                                                'itself', ...],\n",
       "                                               None],\n",
       "                          'vect__tokenizer': [None,\n",
       "                                              <function tokenizer_porter at 0x0000021E09E16268>]}],\n",
       "             pre_dispatch='2*n_jobs', refit=True, return_train_score=False,\n",
       "             scoring='accuracy', verbose=10)"
      ]
     },
     "execution_count": 19,
     "metadata": {},
     "output_type": "execute_result"
    }
   ],
   "source": [
    "gs_tfidf_knn = GridSearchCV(tfidf_knn, param_grid, scoring='accuracy', cv=5, verbose=10, n_jobs=10)\n",
    "gs_tfidf_knn.fit(X_cleaned_train[:5000], y_cleaned_train[:5000])"
   ]
  },
  {
   "cell_type": "code",
   "execution_count": 20,
   "metadata": {
    "scrolled": true
   },
   "outputs": [
    {
     "name": "stdout",
     "output_type": "stream",
     "text": [
      "Zestaw najlepszych parametrów: {'clf__n_neighbors': 7, 'vect__ngram_range': (1, 1), 'vect__stop_words': ['i', 'me', 'my', 'myself', 'we', 'our', 'ours', 'ourselves', 'you', \"you're\", \"you've\", \"you'll\", \"you'd\", 'your', 'yours', 'yourself', 'yourselves', 'he', 'him', 'his', 'himself', 'she', \"she's\", 'her', 'hers', 'herself', 'it', \"it's\", 'its', 'itself', 'they', 'them', 'their', 'theirs', 'themselves', 'what', 'which', 'who', 'whom', 'this', 'that', \"that'll\", 'these', 'those', 'am', 'is', 'are', 'was', 'were', 'be', 'been', 'being', 'have', 'has', 'had', 'having', 'do', 'does', 'did', 'doing', 'a', 'an', 'the', 'and', 'but', 'if', 'or', 'because', 'as', 'until', 'while', 'of', 'at', 'by', 'for', 'with', 'about', 'against', 'between', 'into', 'through', 'during', 'before', 'after', 'above', 'below', 'to', 'from', 'up', 'down', 'in', 'out', 'on', 'off', 'over', 'under', 'again', 'further', 'then', 'once', 'here', 'there', 'when', 'where', 'why', 'how', 'all', 'any', 'both', 'each', 'few', 'more', 'most', 'other', 'some', 'such', 'no', 'nor', 'not', 'only', 'own', 'same', 'so', 'than', 'too', 'very', 's', 't', 'can', 'will', 'just', 'don', \"don't\", 'should', \"should've\", 'now', 'd', 'll', 'm', 'o', 're', 've', 'y', 'ain', 'aren', \"aren't\", 'couldn', \"couldn't\", 'didn', \"didn't\", 'doesn', \"doesn't\", 'hadn', \"hadn't\", 'hasn', \"hasn't\", 'haven', \"haven't\", 'isn', \"isn't\", 'ma', 'mightn', \"mightn't\", 'mustn', \"mustn't\", 'needn', \"needn't\", 'shan', \"shan't\", 'shouldn', \"shouldn't\", 'wasn', \"wasn't\", 'weren', \"weren't\", 'won', \"won't\", 'wouldn', \"wouldn't\"], 'vect__tokenizer': <function tokenizer_porter at 0x0000021E09E16268>}\n",
      "Dokladnosc sprawdzianu krzyzowego: 0.731\n",
      "Dokladnosc sprawdzianu krzyzowego: 0.7384\n"
     ]
    }
   ],
   "source": [
    "print(f\"Zestaw najlepszych parametrów: {gs_tfidf_knn.best_params_}\")\n",
    "print(f\"Dokladnosc sprawdzianu krzyzowego: {gs_tfidf_knn.best_score_}\")\n",
    "clf_tfidf_knn = gs_tfidf_knn.best_estimator_\n",
    "print(f\"Dokladnosc sprawdzianu krzyzowego: {clf_tfidf_knn.score(X_cleaned_test, y_cleaned_test)}\") \n",
    "#Blad - powinno byc dokladnosc na danych testowych"
   ]
  },
  {
   "cell_type": "markdown",
   "metadata": {},
   "source": [
    "#### 2. Z uzyciem metody count vectorizer"
   ]
  },
  {
   "cell_type": "markdown",
   "metadata": {},
   "source": [
    "##### Wyszukanie najlepszych parametrow oraz sprawdzenie dokladnosci count vectorizer i regresji logistycznej z uzyciem metody przeszukiwania siatki."
   ]
  },
  {
   "cell_type": "code",
   "execution_count": 23,
   "metadata": {},
   "outputs": [],
   "source": [
    "cv = CountVectorizer()\n",
    "lr = LogisticRegression()\n",
    "\n",
    "param_grid = [\n",
    "    {\n",
    "        'vect__ngram_range': [(1,1), (2,2)],\n",
    "        'vect__stop_words': [english_stop_words, None],\n",
    "        'vect__tokenizer': [None, tokenizer_porter],\n",
    "        'clf__penalty': ['l1', 'l2'],\n",
    "        'clf__C': [1.0, 10.0, 100.0]\n",
    "    },\n",
    "]\n",
    "\n",
    "cv_lr = Pipeline([('vect', cv),\n",
    "                     ('clf', lr)])"
   ]
  },
  {
   "cell_type": "code",
   "execution_count": 24,
   "metadata": {},
   "outputs": [
    {
     "name": "stdout",
     "output_type": "stream",
     "text": [
      "Fitting 5 folds for each of 48 candidates, totalling 240 fits\n"
     ]
    },
    {
     "name": "stderr",
     "output_type": "stream",
     "text": [
      "[Parallel(n_jobs=8)]: Using backend LokyBackend with 8 concurrent workers.\n",
      "[Parallel(n_jobs=8)]: Done   2 tasks      | elapsed:    5.5s\n",
      "[Parallel(n_jobs=8)]: Done   9 tasks      | elapsed:   13.5s\n",
      "[Parallel(n_jobs=8)]: Done  16 tasks      | elapsed:  1.2min\n",
      "[Parallel(n_jobs=8)]: Done  25 tasks      | elapsed:  1.9min\n",
      "[Parallel(n_jobs=8)]: Done  34 tasks      | elapsed:  2.7min\n",
      "[Parallel(n_jobs=8)]: Done  45 tasks      | elapsed:  3.7min\n",
      "[Parallel(n_jobs=8)]: Done  56 tasks      | elapsed:  4.7min\n",
      "[Parallel(n_jobs=8)]: Done  69 tasks      | elapsed:  5.7min\n",
      "[Parallel(n_jobs=8)]: Done  82 tasks      | elapsed:  7.1min\n",
      "[Parallel(n_jobs=8)]: Done  97 tasks      | elapsed:  8.3min\n",
      "[Parallel(n_jobs=8)]: Done 112 tasks      | elapsed:  9.7min\n",
      "[Parallel(n_jobs=8)]: Done 129 tasks      | elapsed: 11.0min\n",
      "[Parallel(n_jobs=8)]: Done 146 tasks      | elapsed: 12.5min\n",
      "[Parallel(n_jobs=8)]: Done 165 tasks      | elapsed: 14.3min\n",
      "[Parallel(n_jobs=8)]: Done 184 tasks      | elapsed: 15.7min\n",
      "[Parallel(n_jobs=8)]: Done 205 tasks      | elapsed: 17.8min\n",
      "[Parallel(n_jobs=8)]: Done 240 out of 240 | elapsed: 21.8min finished\n",
      "C:\\anaconda37\\lib\\site-packages\\sklearn\\linear_model\\logistic.py:432: FutureWarning: Default solver will be changed to 'lbfgs' in 0.22. Specify a solver to silence this warning.\n",
      "  FutureWarning)\n"
     ]
    },
    {
     "data": {
      "text/plain": [
       "GridSearchCV(cv=5, error_score='raise-deprecating',\n",
       "             estimator=Pipeline(memory=None,\n",
       "                                steps=[('vect',\n",
       "                                        CountVectorizer(analyzer='word',\n",
       "                                                        binary=False,\n",
       "                                                        decode_error='strict',\n",
       "                                                        dtype=<class 'numpy.int64'>,\n",
       "                                                        encoding='utf-8',\n",
       "                                                        input='content',\n",
       "                                                        lowercase=True,\n",
       "                                                        max_df=1.0,\n",
       "                                                        max_features=None,\n",
       "                                                        min_df=1,\n",
       "                                                        ngram_range=(1, 1),\n",
       "                                                        preprocessor=None,\n",
       "                                                        stop_words=None,\n",
       "                                                        strip_accents=None,\n",
       "                                                        tok...\n",
       "                                                'our', 'ours', 'ourselves',\n",
       "                                                'you', \"you're\", \"you've\",\n",
       "                                                \"you'll\", \"you'd\", 'your',\n",
       "                                                'yours', 'yourself',\n",
       "                                                'yourselves', 'he', 'him',\n",
       "                                                'his', 'himself', 'she',\n",
       "                                                \"she's\", 'her', 'hers',\n",
       "                                                'herself', 'it', \"it's\", 'its',\n",
       "                                                'itself', ...],\n",
       "                                               None],\n",
       "                          'vect__tokenizer': [None,\n",
       "                                              <function tokenizer_porter at 0x0000021E09E16268>]}],\n",
       "             pre_dispatch='2*n_jobs', refit=True, return_train_score=False,\n",
       "             scoring='accuracy', verbose=10)"
      ]
     },
     "execution_count": 24,
     "metadata": {},
     "output_type": "execute_result"
    }
   ],
   "source": [
    "gs_cv_lr = GridSearchCV(cv_lr, param_grid, scoring='accuracy', cv=5, verbose=10, n_jobs=8)\n",
    "gs_cv_lr.fit(X_cleaned_train, y_cleaned_train)"
   ]
  },
  {
   "cell_type": "code",
   "execution_count": 26,
   "metadata": {},
   "outputs": [
    {
     "name": "stdout",
     "output_type": "stream",
     "text": [
      "Zestaw najlepszych parametrów: {'clf__C': 1.0, 'clf__penalty': 'l2', 'vect__ngram_range': (1, 1), 'vect__stop_words': None, 'vect__tokenizer': None}\n",
      "Dokladnosc sprawdzianu krzyzowego: 0.8777\n",
      "Dokladnosc na danych testowych: 0.8758\n"
     ]
    }
   ],
   "source": [
    "# ewaluacja modelu\n",
    "print(f\"Zestaw najlepszych parametrów: {gs_cv_lr.best_params_}\")\n",
    "print(f\"Dokladnosc sprawdzianu krzyzowego: {gs_cv_lr.best_score_}\")\n",
    "clf_cv_lr = gs_cv_lr.best_estimator_\n",
    "print(f\"Dokladnosc na danych testowych: {clf_cv_lr.score(X_cleaned_test, y_cleaned_test)}\")"
   ]
  },
  {
   "cell_type": "code",
   "execution_count": 27,
   "metadata": {},
   "outputs": [
    {
     "data": {
      "text/plain": [
       "['cv_lr.joblib']"
      ]
     },
     "execution_count": 27,
     "metadata": {},
     "output_type": "execute_result"
    }
   ],
   "source": [
    "# zapisanie modelu \n",
    "dump(clf_cv_lr, 'cv_lr.joblib')"
   ]
  },
  {
   "cell_type": "markdown",
   "metadata": {},
   "source": [
    "##### Wnioski\n",
    "\n",
    "Najlepiej sprawdzila sie regresja logistyczna oraz maszyna wektorow nosnych. Oba w polaczeniu z algorytmem tf-idf maja dokladnosc bliska 89%. Regresja logistyczna z metoda counter vectorizer osiagnela okolo 87.5% a k najblizszych sasiadow (wyuczony jedynie na fragmencie danych z powodu problemow z pamiecia) ma okolo 74% dokladnosci. \n",
    "\n",
    "Aby wybrac najlepszy model sprawdze ktory z dwoch najlepszych jest szybszy."
   ]
  },
  {
   "cell_type": "code",
   "execution_count": 58,
   "metadata": {},
   "outputs": [],
   "source": [
    "t1 = datetime.datetime.now()\n",
    "y_pred_lr = clf_tfidf_lr.predict(X_cleaned_test)\n",
    "t2 = datetime.datetime.now()\n",
    "lr_time = t2-t1"
   ]
  },
  {
   "cell_type": "code",
   "execution_count": 59,
   "metadata": {},
   "outputs": [],
   "source": [
    "t1 = datetime.datetime.now()\n",
    "y_pred_svm = clf_tfidf_svm.predict(X_cleaned_test)\n",
    "t2 = datetime.datetime.now()\n",
    "svm_time = t2-t1"
   ]
  },
  {
   "cell_type": "code",
   "execution_count": 66,
   "metadata": {},
   "outputs": [
    {
     "name": "stdout",
     "output_type": "stream",
     "text": [
      "Czas predykcji 5000 probek przez regresje logistyczna: 0:00:00.490700\n",
      "Czas predykcji 5000 probek przez maszyne wektorow nosnych: 0:00:55.090658\n"
     ]
    }
   ],
   "source": [
    "print(f\"Czas predykcji {X_cleaned_test.shape[0]} probek przez regresje logistyczna: {lr_time}\")\n",
    "print(f\"Czas predykcji {X_cleaned_test.shape[0]} probek przez maszyne wektorow nosnych: {svm_time}\")"
   ]
  },
  {
   "cell_type": "markdown",
   "metadata": {},
   "source": [
    "Jak widac regresja logistyczna jest znacznie szybsza"
   ]
  },
  {
   "cell_type": "markdown",
   "metadata": {},
   "source": [
    "#### Podpunkty z polecenia"
   ]
  },
  {
   "cell_type": "markdown",
   "metadata": {},
   "source": [
    "1. Wskaż, które słowa są najbardziej charakterystyczne dla recenzji pozytywnych, a które dla negatywnych."
   ]
  },
  {
   "cell_type": "code",
   "execution_count": 48,
   "metadata": {
    "scrolled": true
   },
   "outputs": [],
   "source": [
    "#zlaczenie slow z odpowiadajacym im wspolczynnikiem\n",
    "feature_to_coef = {\n",
    "    word: coef for word, coef in zip(clf_tfidf_lr.named_steps['vect'].get_feature_names(), \n",
    "                                     clf_tfidf_lr.named_steps['clf'].coef_[0]\n",
    "                                    )\n",
    "}\n",
    "sorted_features = sorted(feature_to_coef.items(), key=lambda x: x[1], reverse=True)"
   ]
  },
  {
   "cell_type": "markdown",
   "metadata": {},
   "source": [
    "###### 20 najbardziej charakterystycznych slow dla recenzji pozytywnych:"
   ]
  },
  {
   "cell_type": "code",
   "execution_count": 49,
   "metadata": {
    "scrolled": true
   },
   "outputs": [
    {
     "data": {
      "text/plain": [
       "[('excellent', 11.005419964903675),\n",
       " ('great', 10.30792364867569),\n",
       " ('perfect', 9.017622437948432),\n",
       " ('favorite', 8.65072498915037),\n",
       " ('wonderful', 8.593235924532634),\n",
       " ('best', 7.653884092301864),\n",
       " ('amazing', 7.57487077044093),\n",
       " ('today', 7.431834488559343),\n",
       " ('superb', 7.060720708626921),\n",
       " ('funniest', 6.632678538024501),\n",
       " ('brilliant', 6.307072697172119),\n",
       " ('well', 6.3016561269418245),\n",
       " ('highly', 6.156449454891062),\n",
       " ('wonderfully', 6.072814991202379),\n",
       " ('loved', 5.977076427473113),\n",
       " ('refreshing', 5.8671664692232754),\n",
       " ('perfectly', 5.739917644665664),\n",
       " ('enjoyed', 5.620461837515337),\n",
       " ('makes', 5.578737946532914),\n",
       " ('surprisingly', 5.561567941840688)]"
      ]
     },
     "execution_count": 49,
     "metadata": {},
     "output_type": "execute_result"
    }
   ],
   "source": [
    "sorted_features[:20]"
   ]
  },
  {
   "cell_type": "markdown",
   "metadata": {},
   "source": [
    "###### 20 najbardziej charakterystycznych slow dla recenzji negatywnych:"
   ]
  },
  {
   "cell_type": "code",
   "execution_count": 50,
   "metadata": {},
   "outputs": [
    {
     "data": {
      "text/plain": [
       "[('terrible', -7.025052952559527),\n",
       " ('unfortunately', -7.048046261526079),\n",
       " ('lacks', -7.197362298246422),\n",
       " ('avoid', -7.239493626058036),\n",
       " ('annoying', -7.276623122812378),\n",
       " ('nothing', -7.340312799584017),\n",
       " ('dull', -7.377609782296253),\n",
       " ('fails', -7.717132214150673),\n",
       " ('mess', -7.741772373541064),\n",
       " ('worse', -7.918181073100756),\n",
       " ('disappointing', -8.052890065683847),\n",
       " ('horrible', -8.08801358225808),\n",
       " ('poorly', -8.671818679305188),\n",
       " ('poor', -8.9104235154716),\n",
       " ('bad', -9.096118084143644),\n",
       " ('disappointment', -9.222380551251856),\n",
       " ('boring', -9.848134565198514),\n",
       " ('awful', -11.37232184146493),\n",
       " ('waste', -11.605125730325634),\n",
       " ('worst', -16.542943424836153)]"
      ]
     },
     "execution_count": 50,
     "metadata": {},
     "output_type": "execute_result"
    }
   ],
   "source": [
    "sorted_features[-20:]"
   ]
  },
  {
   "cell_type": "markdown",
   "metadata": {},
   "source": [
    "2. Pamiętaj o filtrowaniu słów stanowiących szum, oraz o wybieraniu tych kategorii słów, które mogą być adekwatne do zadania."
   ]
  },
  {
   "cell_type": "markdown",
   "metadata": {},
   "source": [
    "Ten podpunkt zostal zrealizowany podczas czyszczenia danych z niepotrzebnych znakow oraz przy usunieciu 'stop words'"
   ]
  },
  {
   "cell_type": "markdown",
   "metadata": {},
   "source": [
    "3. Za pomocą znanych Ci metod uczenia maszynowego sprawdź, czy istnieją jakieś zgrupowania współwystępujących ze sobą słów."
   ]
  },
  {
   "cell_type": "markdown",
   "metadata": {},
   "source": [
    "Próba zgrupowania losowo wzietych recenzji nie powiodła się. W celu znalezienia najbardziej odznaczajacych sie grup uzyje klasyfikatora do zklasyfikowania wszystkich recnzji z danych treningowych a nastepnie wybiore 250 z najwyzszym prawdopodobienstwem klasy pozytywnej oraz 250 z najwiekszym prawdopodobienstwem klasy negatywnej. Na takich danych przeprowadze klasteryzacje algorytmem k means"
   ]
  },
  {
   "cell_type": "code",
   "execution_count": 6,
   "metadata": {},
   "outputs": [],
   "source": [
    "clf_tfidf_lr = load('tfidf_lr.joblib')"
   ]
  },
  {
   "cell_type": "markdown",
   "metadata": {},
   "source": [
    "Przygotowanie danych"
   ]
  },
  {
   "cell_type": "code",
   "execution_count": 7,
   "metadata": {},
   "outputs": [],
   "source": [
    "X_transformed = clf_tfidf_lr.named_steps['vect'].transform(X_cleaned_train) #transformacja recenzji na wektor\n",
    "X_pred = clf_tfidf_lr.named_steps['clf'].predict_proba(X_transformed) #klasyfikacja recenzji"
   ]
  },
  {
   "cell_type": "code",
   "execution_count": 8,
   "metadata": {},
   "outputs": [],
   "source": [
    "X_transformed = X_transformed.toarray()\n",
    "x_with_prob = [(X, p) for X, p in zip(X_transformed, X_pred)] #zlaczenie wektora recenzji z prawdopodobienstwem jej klasy\n",
    "x_with_prob = sorted(x_with_prob, key=lambda x: x[1][0], reverse=True) #posortowanie"
   ]
  },
  {
   "cell_type": "code",
   "execution_count": 26,
   "metadata": {},
   "outputs": [],
   "source": [
    "X_knn = [x[0] for x in x_with_prob[:250]] #wybranie 250 recenzji z najwiekszym prawdopodobienstwem klasy pozytywnej\n",
    "X_knn.extend([x[0] for x in x_with_prob[-250:]]) #dodanie 250 recenzji z najwiekszym prawdopodobienstwem\n",
    "                                                    #klasy pozytywnej\n",
    "y_knn = [1 for x in x_with_prob[:250]]\n",
    "y_knn.extend([0 for x in x_with_prob[-250:]])\n",
    "\n",
    "X_knn, y_knn = shuffle(np.array(X_knn), np.array(y_knn))"
   ]
  },
  {
   "cell_type": "markdown",
   "metadata": {},
   "source": [
    "Zastosowanie metody lokcia do znalezienia optymalnej liczny grup"
   ]
  },
  {
   "cell_type": "code",
   "execution_count": 11,
   "metadata": {},
   "outputs": [],
   "source": [
    "Sum_of_squared_distances = []\n",
    "K = [1, 2, 3, 4]\n",
    "for k in K:\n",
    "    km = KMeans(n_clusters=k)\n",
    "    km = km.fit(X_knn)\n",
    "    Sum_of_squared_distances.append(km.inertia_)"
   ]
  },
  {
   "cell_type": "code",
   "execution_count": 21,
   "metadata": {},
   "outputs": [
    {
     "data": {
      "text/plain": [
       "Text(0.5, 1.0, 'metoda lokcia')"
      ]
     },
     "execution_count": 21,
     "metadata": {},
     "output_type": "execute_result"
    },
    {
     "data": {
      "image/png": "[encoded data removed]",
      "text/plain": [
       "<Figure size 432x288 with 1 Axes>"
      ]
     },
     "metadata": {
      "needs_background": "light"
     },
     "output_type": "display_data"
    }
   ],
   "source": [
    "plt.plot(K, Sum_of_squared_distances)\n",
    "plt.xlabel(\"liczba klastrow\")\n",
    "plt.ylabel(\"Znieksztalcenie\")\n",
    "plt.title(\"metoda lokcia\")"
   ]
  },
  {
   "cell_type": "markdown",
   "metadata": {},
   "source": [
    "Tak jak mozna bylo przypuszczac, optymalna liczba grup wynosi 2."
   ]
  },
  {
   "cell_type": "markdown",
   "metadata": {},
   "source": [
    "Zredukowanie wymiarow wektorow recenzji do 2 z uzyciem metody PCA w celu wizualizacji klastrow:"
   ]
  },
  {
   "cell_type": "code",
   "execution_count": 27,
   "metadata": {},
   "outputs": [],
   "source": [
    "pca = PCA(n_components=2)\n",
    "X2d = pca.fit_transform(X_knn)\n",
    "X2dt = X2d.transpose()"
   ]
  },
  {
   "cell_type": "code",
   "execution_count": 34,
   "metadata": {},
   "outputs": [
    {
     "data": {
      "text/plain": [
       "Text(0.5, 1.0, 'Wektory recenzji zredukowane do 2 wartosc: x1 i x2')"
      ]
     },
     "execution_count": 34,
     "metadata": {},
     "output_type": "execute_result"
    },
    {
     "data": {
      "image/png": "[encoded data removed]",
      "text/plain": [
       "<Figure size 432x288 with 1 Axes>"
      ]
     },
     "metadata": {
      "needs_background": "light"
     },
     "output_type": "display_data"
    }
   ],
   "source": [
    "plt.scatter(X2dt[0][y_knn==1], X2dt[1][y_knn==1], color='green', label='recenzje pozytywne')\n",
    "plt.scatter(X2dt[0][y_knn==0], X2dt[1][y_knn==0], color='red', label='recenzje negatywne')\n",
    "plt.xlabel(\"x1\")\n",
    "plt.ylabel(\"x2\")\n",
    "plt.legend()\n",
    "plt.title(\"Wektory recenzji zredukowane do 2 wartosc: x1 i x2\")"
   ]
  },
  {
   "cell_type": "markdown",
   "metadata": {},
   "source": [
    "Jak widac, gdy wezmiemy recenzje z najwiekszym prawdopodobienstwem przynaleznosci do danej klasy, bez problemu mozemy je pogrobowac algorytmem k means."
   ]
  }
 ],
 "metadata": {
  "colab": {
   "name": "Sentiment_analysis.ipynb",
   "provenance": [],
   "toc_visible": true
  },
  "kernelspec": {
   "display_name": "Python 3",
   "language": "python",
   "name": "python3"
  },
  "language_info": {
   "codemirror_mode": {
    "name": "ipython",
    "version": 3
   },
   "file_extension": ".py",
   "mimetype": "text/x-python",
   "name": "python",
   "nbconvert_exporter": "python",
   "pygments_lexer": "ipython3",
   "version": "3.7.3"
  }
 },
 "nbformat": 4,
 "nbformat_minor": 1
}
